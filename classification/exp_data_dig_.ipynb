{
 "cells": [
  {
   "cell_type": "code",
   "execution_count": 3,
   "id": "1b98bc02",
   "metadata": {},
   "outputs": [],
   "source": [
    "import numpy as np\n",
    "import pandas as pd\n",
    "from sklearn.linear_model import LogisticRegression\n",
    "from sklearn.model_selection import train_test_split\n",
    "import matplotlib.pyplot as plt\n",
    "#from utils import *\n",
    "#from utils_cpdir import *\n",
    "from utils_mvcp import *\n",
    "import os"
   ]
  },
  {
   "cell_type": "code",
   "execution_count": 4,
   "id": "b1fc7ac4",
   "metadata": {},
   "outputs": [],
   "source": [
    "path = 'data/'\n",
    "files = os.listdir(path)[1:]\n",
    "data_list = []\n",
    "for f in files:\n",
    "    data_ = pd.read_csv(path+f, header=None)\n",
    "    data_.columns = ['x_'+str(i) for i in range(data_.shape[1])]\n",
    "    data_['y'] = np.repeat(np.arange(0,10), 200)\n",
    "    data_list.append(data_)"
   ]
  },
  {
   "cell_type": "code",
   "execution_count": 5,
   "id": "c466ae15",
   "metadata": {},
   "outputs": [
    {
     "data": {
      "text/plain": [
       "['mfeat-zer_2.csv',\n",
       " 'mfeat-fou_2.csv',\n",
       " 'mfeat-mor_2.csv',\n",
       " 'mfeat-pix_2.csv',\n",
       " 'mfeat-kar_2.csv',\n",
       " 'mfeat-fac_2.csv']"
      ]
     },
     "execution_count": 5,
     "metadata": {},
     "output_type": "execute_result"
    }
   ],
   "source": [
    "files"
   ]
  },
  {
   "cell_type": "code",
   "execution_count": 6,
   "id": "9664f581",
   "metadata": {},
   "outputs": [
    {
     "data": {
      "text/plain": [
       "<matplotlib.image.AxesImage at 0x7fb580957fa0>"
      ]
     },
     "execution_count": 6,
     "metadata": {},
     "output_type": "execute_result"
    },
    {
     "data": {
      "image/png": "[encoded data removed]",
      "text/plain": [
       "<Figure size 640x480 with 1 Axes>"
      ]
     },
     "metadata": {},
     "output_type": "display_data"
    }
   ],
   "source": [
    "plt.imshow(np.array(data_list[3].iloc[401,:-1]).reshape(16,15))"
   ]
  },
  {
   "cell_type": "code",
   "execution_count": 7,
   "id": "0beb9dc7",
   "metadata": {},
   "outputs": [
    {
     "name": "stderr",
     "output_type": "stream",
     "text": [
      "/Users/eochoa/opt/anaconda3/envs/working/lib/python3.10/site-packages/sklearn/linear_model/_logistic.py:444: ConvergenceWarning: lbfgs failed to converge (status=1):\n",
      "STOP: TOTAL NO. of ITERATIONS REACHED LIMIT.\n",
      "\n",
      "Increase the number of iterations (max_iter) or scale the data as shown in:\n",
      "    https://scikit-learn.org/stable/modules/preprocessing.html\n",
      "Please also refer to the documentation for alternative solver options:\n",
      "    https://scikit-learn.org/stable/modules/linear_model.html#logistic-regression\n",
      "  n_iter_i = _check_optimize_result(\n"
     ]
    }
   ],
   "source": [
    "y = np.array(data_list[0].iloc[:,-1])\n",
    "seed = 0\n",
    "train_prop = 0.08\n",
    "adapt = True\n",
    "n = int(y.shape[0] * train_prop) \n",
    "idx = np.array([1] * n + [0] * (y.shape[0]-n)) > 0\n",
    "np.random.seed(seed)\n",
    "np.random.shuffle(idx)\n",
    "X_train_list = []\n",
    "X_test_list = []\n",
    "f_list = []\n",
    "score_list = []\n",
    "acc_list = []\n",
    "y_train, y_test = y[idx], y[~idx]\n",
    "for d in data_list:\n",
    "    \n",
    "    X = np.array(d.iloc[:,:-1])\n",
    "    X = (X - X.mean(0)) / X.std(0)\n",
    "    \n",
    "    X_train, X_test = X[idx,:], X[~idx,:]\n",
    "    #X_train_list.append(X_train)\n",
    "    #X_test_list.append(X_test)\n",
    "    \n",
    "    clf_ = LogisticRegression(multi_class='multinomial')\n",
    "    _ = clf_.fit(X_train, y_train)\n",
    "    #print(clf_.score(X_test, y_test))\n",
    "    f = clf_.predict_proba(X_test)\n",
    "    f_list.append(f)\n",
    "    if adapt:\n",
    "        cal_pi = f.argsort(1)[:,::-1]\n",
    "        cal_srt = np.take_along_axis(f,cal_pi,axis=1)\n",
    "        s = np.array([cal_srt.cumsum(axis=1)[i,cal_pi.argsort(1)[i]] for i in range(f.shape[0])])\n",
    "    else:\n",
    "        s = f\n",
    "            \n",
    "    score_list.append(s)\n",
    "    acc_list.append(clf_.score(X_test, y_test))\n",
    "\n",
    "s_pre_fused = []\n",
    "f_pf_list = (np.cumsum(f_list,0).transpose(1,2,0)*np.arange(1,7)).transpose(2,0,1)\n",
    "#f_pf = np.mean(f_list,0) #f_list\n",
    "\n",
    "for i in range(len(data_list)):\n",
    "    #f_pf = f_pf_list[i]\n",
    "    f_pf = np.mean(f_list[:(i+2)],0)\n",
    "    cal_pi = f_pf.argsort(1)[:,::-1]\n",
    "    cal_srt = np.take_along_axis(f_pf,cal_pi,axis=1)\n",
    "    s_pre_fused.append(np.array([cal_srt.cumsum(axis=1)[i,cal_pi.argsort(1)[i]] for i in range(f_pf.shape[0])]))\n"
   ]
  },
  {
   "cell_type": "code",
   "execution_count": 69,
   "id": "ab64f516",
   "metadata": {},
   "outputs": [
    {
     "name": "stdout",
     "output_type": "stream",
     "text": [
      "0\n",
      "5\n"
     ]
    }
   ],
   "source": [
    "d = 120\n",
    "d_v = 80\n",
    "K = 6\n",
    "N = 3000\n",
    "L = 15\n",
    "train_prop = .3\n",
    "N_train = int(N * train_prop)\n",
    "scale = 3\n",
    "\n",
    "alpha = .1\n",
    "\n",
    "set_size = defaultdict(list)\n",
    "cov = defaultdict(list)\n",
    "cov_cal = defaultdict(list)\n",
    "names = [#'full2', 'full3', 'full4', 'full5', 'full6',\n",
    "             'view2', 'view3', 'view4',  'view5', 'view6',\n",
    "             'avg2', 'avg3', 'avg4', 'avg5', 'avg6', \n",
    "             'norm2','norm3','norm4','norm5','norm6',\n",
    "             #'pre_fused2', 'pre_fused3', 'pre_fused4',  'pre_fused5', 'pre_fused6',\n",
    "        ]\n",
    "seed = 0\n",
    "#s1, s2, s3, y_train, y_test = simulate_s(N, d, .5, .5, scale, K, N_train, seed)\n",
    "\n",
    "for i in range(10):\n",
    "        \n",
    "    seed = seed + i\n",
    "    \n",
    "    #score_list, y_train, y_test, top_views = simulate_s_2(N, d, d_v, L, scale, K, N_train, seed)\n",
    "    top_views = np.array(acc_list)\n",
    "    quant_smx_list = []\n",
    "    rest_smx_list = []\n",
    "    cal_smx_list = []\n",
    "    val_smx_list = []\n",
    "        \n",
    "    U_list = gen_u(K, seed=seed)\n",
    "    \n",
    "    for j in range(K):\n",
    "    \n",
    "        quant_smx, rest_smx, quant_labels, rest_labels, idx_quant = split_cal_test(score_list[j], y_test, cal_prop=0.2, seed=seed)\n",
    "        cal_smx, val_smx, cal_labels, val_labels, idx = split_cal_test(rest_smx, rest_labels, cal_prop=0.8, seed=seed)\n",
    "        \n",
    "        quant_smx_list.append(quant_smx)\n",
    "        rest_smx_list.append(rest_smx)\n",
    "        cal_smx_list.append(cal_smx)\n",
    "        val_smx_list.append(val_smx)\n",
    "        \n",
    "    n = cal_labels.shape[0]\n",
    "    \n",
    "    for j in range(1,K):\n",
    "        \n",
    "        prediction_sets, empirical_coverage = mvcp_2(quant_smx_list[:(j+1)],\n",
    "                                                     quant_labels,\n",
    "                                                     cal_smx_list[:(j+1)], \n",
    "                                                     cal_labels, \n",
    "                                                     val_smx_list[:(j+1)], \n",
    "                                                     alpha, \n",
    "                                                     val_labels, \n",
    "                                                     U=U_list[j-1])\n",
    "    \n",
    "        set_size['mvcp'+str(j+1)].append(\n",
    "            prediction_sets.sum(1).mean()\n",
    "        )\n",
    "        cov['mvcp'+str(j+1)].append(\n",
    "            empirical_coverage\n",
    "        )\n",
    "        \n",
    "        s_u = rest_smx_list[:(j+1)][np.argmax(top_views[:(j+1)])]\n",
    "        #print(top_views[:(j+1)])\n",
    "        #print(np.argmax(top_views[:(j+1)]))\n",
    "        \n",
    "        cal_smx, val_smx, cal_labels, val_labels, idx = split_cal_test(s_u, rest_labels, cal_prop=0.8, seed=seed)\n",
    "        n = cal_smx.shape[0]\n",
    "        (prediction_sets, empirical_coverage), qhat = conform_prediction(cal_smx, val_smx, cal_labels, n, alpha, val_labels, cond=0)\n",
    "        set_size['view'+str(j+1)].append(prediction_sets.sum(1).mean())\n",
    "        cov['view'+str(j+1)].append(empirical_coverage)\n",
    "        \n",
    "        s_u = np.sum(rest_smx_list[:(j+1)], 0)\n",
    "        \n",
    "        cal_smx, val_smx, cal_labels, val_labels, idx = split_cal_test(s_u, rest_labels, cal_prop=0.8, seed=seed)\n",
    "        n = cal_smx.shape[0]\n",
    "        (prediction_sets, empirical_coverage), qhat = conform_prediction(cal_smx, val_smx, cal_labels, n, alpha, val_labels, cond=0)\n",
    "        set_size['sum'+str(j+1)].append(prediction_sets.sum(1).mean())\n",
    "        cov['sum'+str(j+1)].append(empirical_coverage)\n",
    "        \n",
    "        s_u = np.power(rest_smx_list[:(j+1)],2).sum(0)\n",
    "        \n",
    "        cal_smx, val_smx, cal_labels, val_labels, idx = split_cal_test(s_u, rest_labels, cal_prop=0.8, seed=seed)\n",
    "        n = cal_smx.shape[0]\n",
    "        (prediction_sets, empirical_coverage), qhat = conform_prediction(cal_smx, val_smx, cal_labels, n, alpha, val_labels, cond=0)\n",
    "        set_size['norm'+str(j+1)].append(prediction_sets.sum(1).mean())\n",
    "        cov['norm'+str(j+1)].append(empirical_coverage)\n",
    "        \n",
    "        #s_u = 1/(np.array([1+(np.argmax(score_list[:-1], 2)[:,~idx_quant]==l).mean(0) for l in range(L)]).T)  \n",
    "        #s_u = 1-np.product(score_list[:(j+1)], 0)[~idx_quant,] ** (1/(j+1))\n",
    "        #s_u = np.power(rest_smx_list[:(j+1)],2).sum(0)\n",
    "        #s_u = 1-np.max(score_list[:-1], 0)[~idx_quant,]\n",
    "        #s_u = np.max(rest_smx_list[:(j+1)], 0)\n",
    "        s_u = s_pre_fused[j-1][~idx_quant,:]\n",
    "        \n",
    "        cal_smx, val_smx, cal_labels, val_labels, idx = split_cal_test(s_u, rest_labels, cal_prop=0.8, seed=seed)\n",
    "        n = cal_smx.shape[0]\n",
    "        (prediction_sets, empirical_coverage), qhat = conform_prediction(cal_smx, val_smx, cal_labels, n, alpha, val_labels, cond=0)\n",
    "        set_size['pre_fused'+str(j+1)].append(prediction_sets.sum(1).mean())\n",
    "        cov['pre_fused'+str(j+1)].append(empirical_coverage)\n"
   ]
  },
  {
   "cell_type": "code",
   "execution_count": 70,
   "id": "523481cc",
   "metadata": {},
   "outputs": [
    {
     "data": {
      "text/html": [
       "<div>\n",
       "<style scoped>\n",
       "    .dataframe tbody tr th:only-of-type {\n",
       "        vertical-align: middle;\n",
       "    }\n",
       "\n",
       "    .dataframe tbody tr th {\n",
       "        vertical-align: top;\n",
       "    }\n",
       "\n",
       "    .dataframe thead th {\n",
       "        text-align: right;\n",
       "    }\n",
       "</style>\n",
       "<table border=\"1\" class=\"dataframe\">\n",
       "  <thead>\n",
       "    <tr style=\"text-align: right;\">\n",
       "      <th>cp</th>\n",
       "      <th>view</th>\n",
       "      <th>pre_fused</th>\n",
       "      <th>sum</th>\n",
       "      <th>norm</th>\n",
       "      <th>mvcp</th>\n",
       "    </tr>\n",
       "    <tr>\n",
       "      <th>M</th>\n",
       "      <th></th>\n",
       "      <th></th>\n",
       "      <th></th>\n",
       "      <th></th>\n",
       "      <th></th>\n",
       "    </tr>\n",
       "  </thead>\n",
       "  <tbody>\n",
       "    <tr>\n",
       "      <th>2</th>\n",
       "      <td>3.389153</td>\n",
       "      <td>3.692203</td>\n",
       "      <td>3.517966</td>\n",
       "      <td>3.514237</td>\n",
       "      <td>2.684746</td>\n",
       "    </tr>\n",
       "    <tr>\n",
       "      <th>3</th>\n",
       "      <td>3.389153</td>\n",
       "      <td>3.477288</td>\n",
       "      <td>2.968814</td>\n",
       "      <td>2.945085</td>\n",
       "      <td>1.841017</td>\n",
       "    </tr>\n",
       "    <tr>\n",
       "      <th>4</th>\n",
       "      <td>3.282034</td>\n",
       "      <td>3.423051</td>\n",
       "      <td>2.870508</td>\n",
       "      <td>2.830508</td>\n",
       "      <td>1.641695</td>\n",
       "    </tr>\n",
       "    <tr>\n",
       "      <th>5</th>\n",
       "      <td>3.282034</td>\n",
       "      <td>3.122373</td>\n",
       "      <td>2.727797</td>\n",
       "      <td>2.679322</td>\n",
       "      <td>1.554576</td>\n",
       "    </tr>\n",
       "    <tr>\n",
       "      <th>6</th>\n",
       "      <td>3.191525</td>\n",
       "      <td>3.068475</td>\n",
       "      <td>2.705085</td>\n",
       "      <td>2.638983</td>\n",
       "      <td>1.596949</td>\n",
       "    </tr>\n",
       "  </tbody>\n",
       "</table>\n",
       "</div>"
      ],
      "text/plain": [
       "cp      view  pre_fused       sum      norm      mvcp\n",
       "M                                                    \n",
       "2   3.389153   3.692203  3.517966  3.514237  2.684746\n",
       "3   3.389153   3.477288  2.968814  2.945085  1.841017\n",
       "4   3.282034   3.423051  2.870508  2.830508  1.641695\n",
       "5   3.282034   3.122373  2.727797  2.679322  1.554576\n",
       "6   3.191525   3.068475  2.705085  2.638983  1.596949"
      ]
     },
     "execution_count": 70,
     "metadata": {},
     "output_type": "execute_result"
    }
   ],
   "source": [
    "df_res = pd.DataFrame(pd.DataFrame(set_size).mean()).reset_index()\n",
    "df_res['cp'] = [s[:-1] for s in df_res['index']]\n",
    "df_res['M'] = [s[-1] for s in df_res['index']]\n",
    "del df_res['index']\n",
    "df_res = df_res.pivot(index='M', columns='cp', values=0).loc[:,['view','pre_fused','sum','norm', 'mvcp']]\n",
    "df_res"
   ]
  },
  {
   "cell_type": "code",
   "execution_count": 71,
   "id": "c2f8f838",
   "metadata": {},
   "outputs": [
    {
     "name": "stdout",
     "output_type": "stream",
     "text": [
      "\\begin{tabular}{rrrrr}\n",
      "\\toprule\n",
      " view &  pre\\_fused &  sum &  norm &  mvcp \\\\\n",
      " 3.39 &       3.69 & 3.52 &  3.51 &  2.68 \\\\\n",
      "\\midrule\n",
      " 3.39 &       3.48 & 2.97 &  2.95 &  1.84 \\\\\n",
      " 3.28 &       3.42 & 2.87 &  2.83 &  1.64 \\\\\n",
      " 3.28 &       3.12 & 2.73 &  2.68 &  1.55 \\\\\n",
      " 3.19 &       3.07 & 2.71 &  2.64 &  1.60 \\\\\n",
      "\\bottomrule\n",
      "\\end{tabular}\n",
      "\n"
     ]
    },
    {
     "name": "stderr",
     "output_type": "stream",
     "text": [
      "/var/folders/9g/bj6gc6z17_1fyb7lx57xf04m0000gs/T/ipykernel_66059/2737531582.py:1: FutureWarning: In future versions `DataFrame.to_latex` is expected to utilise the base implementation of `Styler.to_latex` for formatting and rendering. The arguments signature may therefore change. It is recommended instead to use `DataFrame.style.to_latex` which also contains additional functionality.\n",
      "  print(df_res.to_latex(index=False,\n"
     ]
    }
   ],
   "source": [
    "print(df_res.to_latex(index=False,\n",
    "                  formatters={\"name\": str.upper},\n",
    "                  float_format=\"{:.2f}\".format,\n",
    ")) "
   ]
  },
  {
   "cell_type": "code",
   "execution_count": 72,
   "id": "868efeb3",
   "metadata": {},
   "outputs": [
    {
     "data": {
      "text/html": [
       "<div>\n",
       "<style scoped>\n",
       "    .dataframe tbody tr th:only-of-type {\n",
       "        vertical-align: middle;\n",
       "    }\n",
       "\n",
       "    .dataframe tbody tr th {\n",
       "        vertical-align: top;\n",
       "    }\n",
       "\n",
       "    .dataframe thead th {\n",
       "        text-align: right;\n",
       "    }\n",
       "</style>\n",
       "<table border=\"1\" class=\"dataframe\">\n",
       "  <thead>\n",
       "    <tr style=\"text-align: right;\">\n",
       "      <th>cp</th>\n",
       "      <th>view</th>\n",
       "      <th>pre_fused</th>\n",
       "      <th>sum</th>\n",
       "      <th>norm</th>\n",
       "      <th>mvcp</th>\n",
       "    </tr>\n",
       "    <tr>\n",
       "      <th>M</th>\n",
       "      <th></th>\n",
       "      <th></th>\n",
       "      <th></th>\n",
       "      <th></th>\n",
       "      <th></th>\n",
       "    </tr>\n",
       "  </thead>\n",
       "  <tbody>\n",
       "    <tr>\n",
       "      <th>2</th>\n",
       "      <td>0.090829</td>\n",
       "      <td>0.107134</td>\n",
       "      <td>0.127797</td>\n",
       "      <td>0.126109</td>\n",
       "      <td>0.166903</td>\n",
       "    </tr>\n",
       "    <tr>\n",
       "      <th>3</th>\n",
       "      <td>0.090829</td>\n",
       "      <td>0.088075</td>\n",
       "      <td>0.086510</td>\n",
       "      <td>0.089555</td>\n",
       "      <td>0.098278</td>\n",
       "    </tr>\n",
       "    <tr>\n",
       "      <th>4</th>\n",
       "      <td>0.144065</td>\n",
       "      <td>0.052559</td>\n",
       "      <td>0.049994</td>\n",
       "      <td>0.047188</td>\n",
       "      <td>0.115896</td>\n",
       "    </tr>\n",
       "    <tr>\n",
       "      <th>5</th>\n",
       "      <td>0.144065</td>\n",
       "      <td>0.073079</td>\n",
       "      <td>0.076804</td>\n",
       "      <td>0.069859</td>\n",
       "      <td>0.061376</td>\n",
       "    </tr>\n",
       "    <tr>\n",
       "      <th>6</th>\n",
       "      <td>0.170320</td>\n",
       "      <td>0.110663</td>\n",
       "      <td>0.061724</td>\n",
       "      <td>0.052302</td>\n",
       "      <td>0.071811</td>\n",
       "    </tr>\n",
       "  </tbody>\n",
       "</table>\n",
       "</div>"
      ],
      "text/plain": [
       "cp      view  pre_fused       sum      norm      mvcp\n",
       "M                                                    \n",
       "2   0.090829   0.107134  0.127797  0.126109  0.166903\n",
       "3   0.090829   0.088075  0.086510  0.089555  0.098278\n",
       "4   0.144065   0.052559  0.049994  0.047188  0.115896\n",
       "5   0.144065   0.073079  0.076804  0.069859  0.061376\n",
       "6   0.170320   0.110663  0.061724  0.052302  0.071811"
      ]
     },
     "execution_count": 72,
     "metadata": {},
     "output_type": "execute_result"
    }
   ],
   "source": [
    "df_res = pd.DataFrame(pd.DataFrame(set_size).std()).reset_index()\n",
    "df_res['cp'] = [s[:-1] for s in df_res['index']]\n",
    "df_res['M'] = [s[-1] for s in df_res['index']]\n",
    "del df_res['index']\n",
    "df_res = df_res.pivot(index='M', columns='cp', values=0).loc[:,['view','pre_fused','sum','norm', 'mvcp']]\n",
    "df_res"
   ]
  },
  {
   "cell_type": "code",
   "execution_count": 73,
   "id": "6e3b383a",
   "metadata": {},
   "outputs": [
    {
     "name": "stdout",
     "output_type": "stream",
     "text": [
      "\\begin{tabular}{lrrrrr}\n",
      "\\toprule\n",
      "cp &  view &  pre\\_fused &  sum &  norm &  mvcp \\\\\n",
      "M &       &            &      &       &       \\\\\n",
      "\\midrule\n",
      "2 &  0.09 &       0.11 & 0.13 &  0.13 &  0.17 \\\\\n",
      "3 &  0.09 &       0.09 & 0.09 &  0.09 &  0.10 \\\\\n",
      "4 &  0.14 &       0.05 & 0.05 &  0.05 &  0.12 \\\\\n",
      "5 &  0.14 &       0.07 & 0.08 &  0.07 &  0.06 \\\\\n",
      "6 &  0.17 &       0.11 & 0.06 &  0.05 &  0.07 \\\\\n",
      "\\bottomrule\n",
      "\\end{tabular}\n",
      "\n"
     ]
    },
    {
     "name": "stderr",
     "output_type": "stream",
     "text": [
      "/var/folders/9g/bj6gc6z17_1fyb7lx57xf04m0000gs/T/ipykernel_66059/361595659.py:1: FutureWarning: In future versions `DataFrame.to_latex` is expected to utilise the base implementation of `Styler.to_latex` for formatting and rendering. The arguments signature may therefore change. It is recommended instead to use `DataFrame.style.to_latex` which also contains additional functionality.\n",
      "  print(df_res.to_latex(index=True,\n"
     ]
    }
   ],
   "source": [
    "print(df_res.to_latex(index=True,\n",
    "                  formatters={\"name\": str.upper},\n",
    "                  float_format=\"{:.2f}\".format,\n",
    ")) "
   ]
  },
  {
   "cell_type": "code",
   "execution_count": 74,
   "id": "3f96fdb0",
   "metadata": {},
   "outputs": [
    {
     "data": {
      "text/html": [
       "<div>\n",
       "<style scoped>\n",
       "    .dataframe tbody tr th:only-of-type {\n",
       "        vertical-align: middle;\n",
       "    }\n",
       "\n",
       "    .dataframe tbody tr th {\n",
       "        vertical-align: top;\n",
       "    }\n",
       "\n",
       "    .dataframe thead th {\n",
       "        text-align: right;\n",
       "    }\n",
       "</style>\n",
       "<table border=\"1\" class=\"dataframe\">\n",
       "  <thead>\n",
       "    <tr style=\"text-align: right;\">\n",
       "      <th>cp</th>\n",
       "      <th>view</th>\n",
       "      <th>pre_fused</th>\n",
       "      <th>sum</th>\n",
       "      <th>norm</th>\n",
       "      <th>mvcp</th>\n",
       "    </tr>\n",
       "    <tr>\n",
       "      <th>M</th>\n",
       "      <th></th>\n",
       "      <th></th>\n",
       "      <th></th>\n",
       "      <th></th>\n",
       "      <th></th>\n",
       "    </tr>\n",
       "  </thead>\n",
       "  <tbody>\n",
       "    <tr>\n",
       "      <th>2</th>\n",
       "      <td>0.896610</td>\n",
       "      <td>0.908136</td>\n",
       "      <td>0.906441</td>\n",
       "      <td>0.907119</td>\n",
       "      <td>0.899661</td>\n",
       "    </tr>\n",
       "    <tr>\n",
       "      <th>3</th>\n",
       "      <td>0.896610</td>\n",
       "      <td>0.897627</td>\n",
       "      <td>0.898305</td>\n",
       "      <td>0.898644</td>\n",
       "      <td>0.897966</td>\n",
       "    </tr>\n",
       "    <tr>\n",
       "      <th>4</th>\n",
       "      <td>0.905085</td>\n",
       "      <td>0.904068</td>\n",
       "      <td>0.902712</td>\n",
       "      <td>0.903390</td>\n",
       "      <td>0.901356</td>\n",
       "    </tr>\n",
       "    <tr>\n",
       "      <th>5</th>\n",
       "      <td>0.905085</td>\n",
       "      <td>0.908136</td>\n",
       "      <td>0.906102</td>\n",
       "      <td>0.904068</td>\n",
       "      <td>0.901695</td>\n",
       "    </tr>\n",
       "    <tr>\n",
       "      <th>6</th>\n",
       "      <td>0.895932</td>\n",
       "      <td>0.905763</td>\n",
       "      <td>0.904407</td>\n",
       "      <td>0.904407</td>\n",
       "      <td>0.907797</td>\n",
       "    </tr>\n",
       "  </tbody>\n",
       "</table>\n",
       "</div>"
      ],
      "text/plain": [
       "cp      view  pre_fused       sum      norm      mvcp\n",
       "M                                                    \n",
       "2   0.896610   0.908136  0.906441  0.907119  0.899661\n",
       "3   0.896610   0.897627  0.898305  0.898644  0.897966\n",
       "4   0.905085   0.904068  0.902712  0.903390  0.901356\n",
       "5   0.905085   0.908136  0.906102  0.904068  0.901695\n",
       "6   0.895932   0.905763  0.904407  0.904407  0.907797"
      ]
     },
     "execution_count": 74,
     "metadata": {},
     "output_type": "execute_result"
    }
   ],
   "source": [
    "df_res = pd.DataFrame(pd.DataFrame(cov).mean()).reset_index()\n",
    "df_res['cp'] = [s[:-1] for s in df_res['index']]\n",
    "df_res['M'] = [s[-1] for s in df_res['index']]\n",
    "del df_res['index']\n",
    "df_res = df_res.pivot(index='M', columns='cp', values=0).loc[:,['view','pre_fused','sum','norm', 'mvcp']]\n",
    "df_res"
   ]
  },
  {
   "cell_type": "code",
   "execution_count": 75,
   "id": "9d982944",
   "metadata": {},
   "outputs": [
    {
     "name": "stdout",
     "output_type": "stream",
     "text": [
      "\\begin{tabular}{lrrrrr}\n",
      "\\toprule\n",
      "cp &  view &  pre\\_fused &  sum &  norm &  mvcp \\\\\n",
      "M &       &            &      &       &       \\\\\n",
      "\\midrule\n",
      "2 &  0.90 &       0.91 & 0.91 &  0.91 &  0.90 \\\\\n",
      "3 &  0.90 &       0.90 & 0.90 &  0.90 &  0.90 \\\\\n",
      "4 &  0.91 &       0.90 & 0.90 &  0.90 &  0.90 \\\\\n",
      "5 &  0.91 &       0.91 & 0.91 &  0.90 &  0.90 \\\\\n",
      "6 &  0.90 &       0.91 & 0.90 &  0.90 &  0.91 \\\\\n",
      "\\bottomrule\n",
      "\\end{tabular}\n",
      "\n"
     ]
    },
    {
     "name": "stderr",
     "output_type": "stream",
     "text": [
      "/var/folders/9g/bj6gc6z17_1fyb7lx57xf04m0000gs/T/ipykernel_66059/361595659.py:1: FutureWarning: In future versions `DataFrame.to_latex` is expected to utilise the base implementation of `Styler.to_latex` for formatting and rendering. The arguments signature may therefore change. It is recommended instead to use `DataFrame.style.to_latex` which also contains additional functionality.\n",
      "  print(df_res.to_latex(index=True,\n"
     ]
    }
   ],
   "source": [
    "print(df_res.to_latex(index=True,\n",
    "                  formatters={\"name\": str.upper},\n",
    "                  float_format=\"{:.2f}\".format,\n",
    ")) "
   ]
  }
 ],
 "metadata": {
  "kernelspec": {
   "display_name": "Python 3 (ipykernel)",
   "language": "python",
   "name": "python3"
  },
  "language_info": {
   "codemirror_mode": {
    "name": "ipython",
    "version": 3
   },
   "file_extension": ".py",
   "mimetype": "text/x-python",
   "name": "python",
   "nbconvert_exporter": "python",
   "pygments_lexer": "ipython3",
   "version": "3.10.9"
  }
 },
 "nbformat": 4,
 "nbformat_minor": 5
}
