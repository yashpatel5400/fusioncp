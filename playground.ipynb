{
 "cells": [
  {
   "cell_type": "code",
   "execution_count": 1,
   "id": "269fa42c",
   "metadata": {},
   "outputs": [],
   "source": [
    "import cvxpy as cp\n",
    "import numpy as np\n",
    "\n",
    "d = 5\n",
    "K = 2\n",
    "M = 1\n",
    "\n",
    "w   = np.random.random(d)\n",
    "c_0 = np.random.random(d)\n",
    "c_1 = np.random.random(d)\n",
    "\n",
    "us = [np.ones(K) for _ in range(M)]"
   ]
  },
  {
   "cell_type": "code",
   "execution_count": 6,
   "id": "f2d5cca0",
   "metadata": {},
   "outputs": [],
   "source": [
    "# Construct the problem.\n",
    "c = cp.Variable(5)\n",
    "objective = cp.Maximize(w @ c)\n",
    "constraints = [\n",
    "    cp.norm(c - c_0, 2) <= 1,\n",
    "]\n",
    "prob = cp.Problem(objective, constraints)"
   ]
  },
  {
   "cell_type": "code",
   "execution_count": 7,
   "id": "ef4fc4b5",
   "metadata": {},
   "outputs": [
    {
     "name": "stdout",
     "output_type": "stream",
     "text": [
      "[0.35920086 0.45874315 0.74245147 0.56634824 0.03915299]\n"
     ]
    }
   ],
   "source": [
    "# The optimal objective value is returned by `prob.solve()`.\n",
    "result = prob.solve()\n",
    "# The optimal value for x is stored in `x.value`.\n",
    "print(c.value)"
   ]
  },
  {
   "cell_type": "code",
   "execution_count": 2,
   "id": "f0e69c7a",
   "metadata": {},
   "outputs": [
    {
     "name": "stdout",
     "output_type": "stream",
     "text": [
      "Transferring gaussian_mixture_1-2.nf to CPU...\n",
      "Transferring two_moons_0-1.nf to CPU...\n",
      "Transferring two_moons_1-2.nf to CPU...\n",
      "Transferring gaussian_mixture_0-1.nf to CPU...\n"
     ]
    }
   ],
   "source": [
    "import os \n",
    "import pickle \n",
    "\n",
    "gpu_trained_dir = \"/home/yppatel/fusioncp/trained\"\n",
    "cpu_trained_dir = \"/home/yppatel/fusioncp/trained_cpu\"\n",
    "\n",
    "for model_fn in os.listdir(gpu_trained_dir):\n",
    "    print(f\"Transferring {model_fn} to CPU...\")\n",
    "    with open(os.path.join(gpu_trained_dir, model_fn), \"rb\") as f:\n",
    "        generative_model = pickle.load(f)\n",
    "    generative_model.to(\"cpu\")        \n",
    "\n",
    "    with open(os.path.join(cpu_trained_dir, model_fn), \"wb\") as f:\n",
    "        pickle.dump(generative_model, f)"
   ]
  },
  {
   "cell_type": "code",
   "execution_count": null,
   "id": "aaf6b375",
   "metadata": {},
   "outputs": [],
   "source": [
    "import sbibm\n",
    "\n",
    "task_names = [\"two_moons\", \"gaussian_mixture\"]\n",
    "tasks      = [sbibm.get_task(task_name) for task_name in task_names]\n",
    "priors     = [task.get_prior() for task in tasks]\n",
    "simulators = [task.get_simulator() for task in tasks]"
   ]
  },
  {
   "cell_type": "code",
   "execution_count": 3,
   "id": "ba07b87f",
   "metadata": {},
   "outputs": [],
   "source": [
    "import pickle\n",
    "\n",
    "fn = \"/home/yppatel/fusioncp/exp_configs/two_moons,gaussian_mixture\"\n",
    "with open(fn, \"rb\") as f:\n",
    "    d = pickle.load(f)"
   ]
  },
  {
   "cell_type": "code",
   "execution_count": 10,
   "id": "275bb32e",
   "metadata": {},
   "outputs": [
    {
     "data": {
      "text/plain": [
       "torch.Size([100, 4])"
      ]
     },
     "execution_count": 10,
     "metadata": {},
     "output_type": "execute_result"
    }
   ],
   "source": [
    "d[\"x_test\"].shape"
   ]
  },
  {
   "cell_type": "code",
   "execution_count": 2,
   "id": "c2613055",
   "metadata": {},
   "outputs": [],
   "source": [
    "import numpy as np\n",
    "\n",
    "nominal = np.random.random(1_000)\n",
    "robust1 = nominal * 3 + np.random.random(1_000)\n",
    "robust2 = nominal * 1 + np.random.random(1_000)"
   ]
  },
  {
   "cell_type": "code",
   "execution_count": 3,
   "id": "3cc8cb7d",
   "metadata": {},
   "outputs": [],
   "source": [
    "diff1 = nominal - robust1\n",
    "diff2 = nominal - robust2"
   ]
  },
  {
   "cell_type": "code",
   "execution_count": 11,
   "id": "d0d86c1f",
   "metadata": {},
   "outputs": [],
   "source": [
    "trials = 25\n",
    "subsample_size = 100\n",
    "bootstrap_samples = np.array([np.mean(diff1[np.random.choice(1000, subsample_size)]) for _ in range(trials)])\n",
    "bootstrap_samples = np.array([np.mean(diff2[np.random.choice(1000, subsample_size)]) for _ in range(trials)])"
   ]
  },
  {
   "cell_type": "code",
   "execution_count": 12,
   "id": "8af60efa",
   "metadata": {},
   "outputs": [
    {
     "data": {
      "text/plain": [
       "(100,)"
      ]
     },
     "execution_count": 12,
     "metadata": {},
     "output_type": "execute_result"
    }
   ],
   "source": [
    "bootstrap_samples[0].shape"
   ]
  },
  {
   "cell_type": "code",
   "execution_count": 5,
   "id": "fd4d15ec",
   "metadata": {},
   "outputs": [
    {
     "data": {
      "text/plain": [
       "-1.733671078425203"
      ]
     },
     "execution_count": 5,
     "metadata": {},
     "output_type": "execute_result"
    }
   ],
   "source": [
    "np.mean(diff2) / np.std(diff2)"
   ]
  },
  {
   "cell_type": "code",
   "execution_count": null,
   "id": "d4f98a9e",
   "metadata": {},
   "outputs": [],
   "source": []
  }
 ],
 "metadata": {
  "kernelspec": {
   "display_name": "chig",
   "language": "python",
   "name": "python3"
  },
  "language_info": {
   "codemirror_mode": {
    "name": "ipython",
    "version": 3
   },
   "file_extension": ".py",
   "mimetype": "text/x-python",
   "name": "python",
   "nbconvert_exporter": "python",
   "pygments_lexer": "ipython3",
   "version": "3.8.16"
  },
  "vscode": {
   "interpreter": {
    "hash": "025fdf49e09ee838b0c05e971129fbc14df70fae1b22b06a04398c8d66c2f675"
   }
  }
 },
 "nbformat": 4,
 "nbformat_minor": 5
}
