{
 "cells": [
  {
   "cell_type": "code",
   "execution_count": 1,
   "id": "2712436c",
   "metadata": {},
   "outputs": [],
   "source": [
    "import time\n",
    "import torch\n",
    "import sbibm\n",
    "import numpy as np\n",
    "import pandas as pd\n",
    "import matplotlib.pyplot as plt\n",
    "import seaborn as sns\n",
    "import pickle\n",
    "import os\n",
    "import io"
   ]
  },
  {
   "cell_type": "code",
   "execution_count": 40,
   "id": "6974d7e4",
   "metadata": {},
   "outputs": [],
   "source": [
    "plt.rcParams['mathtext.fontset'] = 'stix'\n",
    "plt.rcParams['font.family'] = 'STIXGeneral'\n",
    "\n",
    "SMALL_SIZE = 12\n",
    "MEDIUM_SIZE = 14\n",
    "BIGGER_SIZE = 18\n",
    "\n",
    "plt.rc('font', size=BIGGER_SIZE)          # controls default text sizes\n",
    "plt.rc('axes', titlesize=BIGGER_SIZE)     # fontsize of the axes title\n",
    "plt.rc('axes', labelsize=BIGGER_SIZE)    # fontsize of the x and y labels\n",
    "plt.rc('xtick', labelsize=BIGGER_SIZE)    # fontsize of the tick labels\n",
    "plt.rc('ytick', labelsize=BIGGER_SIZE)    # fontsize of the tick labels\n",
    "plt.rc('legend', fontsize=BIGGER_SIZE)    # legend fontsize\n",
    "plt.rc('figure', titlesize=BIGGER_SIZE)  # fontsize of the figure title"
   ]
  },
  {
   "cell_type": "code",
   "execution_count": 52,
   "id": "d3b44119",
   "metadata": {},
   "outputs": [],
   "source": [
    "K = 2 # number of views\n",
    "scores = np.random.random((10, K))"
   ]
  },
  {
   "cell_type": "code",
   "execution_count": 56,
   "id": "ad959a2d",
   "metadata": {},
   "outputs": [],
   "source": [
    "alpha = 0.05\n",
    "M = 12 # number of angle discretizations\n",
    "\n",
    "quantiles = []\n",
    "for m in range(M):\n",
    "    angle = 2 * np.pi * m / M\n",
    "    direction = np.array([np.cos(angle), np.sin(angle)])\n",
    "    proj_scores = np.dot(scores, direction)\n",
    "\n",
    "    quantile = np.quantile(proj_scores, q = 1 - alpha)\n",
    "    quantiles.append(quantile)"
   ]
  },
  {
   "cell_type": "code",
   "execution_count": 57,
   "id": "7682892a",
   "metadata": {},
   "outputs": [
    {
     "data": {
      "text/plain": [
       "[0.9198814313698617,\n",
       " 0.9764691132360974,\n",
       " 0.9070153837339,\n",
       " 0.8330790453349335,\n",
       " 0.6345252083801554,\n",
       " 0.26595085426272447,\n",
       " -0.15830472825990702,\n",
       " -0.40604708724922245,\n",
       " -0.39943886450722543,\n",
       " -0.06984827214855598,\n",
       " 0.34770978812713027,\n",
       " 0.6730386094536798]"
      ]
     },
     "execution_count": 57,
     "metadata": {},
     "output_type": "execute_result"
    }
   ],
   "source": [
    "quantiles"
   ]
  },
  {
   "cell_type": "code",
   "execution_count": null,
   "id": "2de32797",
   "metadata": {},
   "outputs": [],
   "source": []
  }
 ],
 "metadata": {
  "kernelspec": {
   "display_name": "chig",
   "language": "python",
   "name": "python3"
  },
  "language_info": {
   "codemirror_mode": {
    "name": "ipython",
    "version": 3
   },
   "file_extension": ".py",
   "mimetype": "text/x-python",
   "name": "python",
   "nbconvert_exporter": "python",
   "pygments_lexer": "ipython3",
   "version": "3.8.16"
  },
  "vscode": {
   "interpreter": {
    "hash": "025fdf49e09ee838b0c05e971129fbc14df70fae1b22b06a04398c8d66c2f675"
   }
  }
 },
 "nbformat": 4,
 "nbformat_minor": 5
}
